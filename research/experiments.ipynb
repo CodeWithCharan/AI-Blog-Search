{
 "cells": [
  {
   "cell_type": "code",
   "execution_count": 1,
   "id": "5e0de1d8-0fef-4a74-a389-e18534013784",
   "metadata": {},
   "outputs": [],
   "source": [
    "import os\n",
    "from dotenv import load_dotenv\n",
    "\n",
    "load_dotenv()\n",
    "\n",
    "os.environ[\"GOOGLE_API_KEY\"] = os.getenv(\"GOOGLE_API_KEY\")"
   ]
  },
  {
   "cell_type": "code",
   "execution_count": 2,
   "id": "02442a66-21fa-4dad-a6a4-fdcfb596d306",
   "metadata": {},
   "outputs": [],
   "source": [
    "from langchain_google_genai import GoogleGenerativeAIEmbeddings\n",
    "\n",
    "embedding_model = GoogleGenerativeAIEmbeddings(model=\"models/embedding-001\")"
   ]
  },
  {
   "cell_type": "code",
   "execution_count": null,
   "id": "fd0e4f53-f672-471f-9913-09ff2f906d4f",
   "metadata": {},
   "outputs": [],
   "source": [
    "# pip install -qU langchain-qdrant"
   ]
  },
  {
   "cell_type": "code",
   "execution_count": 3,
   "id": "44d8463b-dcd1-4275-b416-7b804c5cd5ee",
   "metadata": {},
   "outputs": [],
   "source": [
    "import os\n",
    "\n",
    "os.environ[\"QDRANT_HOST\"] = os.getenv(\"QDRANT_HOST\")\n",
    "os.environ[\"QDRANT_API_KEY\"] = os.getenv(\"QDRANT_API_KEY\")"
   ]
  },
  {
   "cell_type": "code",
   "execution_count": 6,
   "id": "352f1685-623b-4730-a1c8-79c5f5dd8d43",
   "metadata": {},
   "outputs": [],
   "source": [
    "from langchain_qdrant import QdrantVectorStore\n",
    "from qdrant_client import QdrantClient\n",
    "from qdrant_client.http.models import Distance, VectorParams\n",
    "\n",
    "client = QdrantClient(\n",
    "    os.getenv(\"QDRANT_HOST\"),\n",
    "    api_key=os.getenv(\"QDRANT_API_KEY\")\n",
    ")"
   ]
  },
  {
   "cell_type": "code",
   "execution_count": 7,
   "id": "0bf217c1-5eb6-4104-9bb2-b3221f453e36",
   "metadata": {},
   "outputs": [
    {
     "data": {
      "text/plain": [
       "True"
      ]
     },
     "execution_count": 7,
     "metadata": {},
     "output_type": "execute_result"
    }
   ],
   "source": [
    "# create a collection\n",
    "client.create_collection(\n",
    "    collection_name=\"qdrant_db\",\n",
    "    vectors_config=VectorParams(size=768, distance=Distance.COSINE)\n",
    ")"
   ]
  },
  {
   "cell_type": "code",
   "execution_count": 8,
   "id": "4f4e36be-e6e7-43d7-a9cc-97a26bda404c",
   "metadata": {},
   "outputs": [],
   "source": [
    "# Finally, create a vectorstore\n",
    "vector_store = QdrantVectorStore(\n",
    "    client=client,\n",
    "    collection_name=\"qdrant_db\",\n",
    "    embedding=embedding_model\n",
    ")"
   ]
  },
  {
   "cell_type": "code",
   "execution_count": 9,
   "id": "9996198e-0dd0-4653-8796-50e8b8e14062",
   "metadata": {},
   "outputs": [],
   "source": [
    "os.environ['USER_AGENT'] = 'myagent'"
   ]
  },
  {
   "cell_type": "code",
   "execution_count": 10,
   "id": "1f0715e6-24dd-4390-9074-bb4600bbba33",
   "metadata": {},
   "outputs": [],
   "source": [
    "from langchain_community.document_loaders import WebBaseLoader\n",
    "\n",
    "url = \"https://lilianweng.github.io/posts/2024-11-28-reward-hacking/\"\n",
    "\n",
    "docs = WebBaseLoader(url).load()"
   ]
  },
  {
   "cell_type": "code",
   "execution_count": 11,
   "id": "23470d9d-236e-48b6-8355-2526abd3487f",
   "metadata": {},
   "outputs": [
    {
     "data": {
      "text/plain": [
       "{'source': 'https://lilianweng.github.io/posts/2024-11-28-reward-hacking/',\n",
       " 'title': \"Reward Hacking in Reinforcement Learning | Lil'Log\",\n",
       " 'description': 'Reward hacking occurs when a reinforcement learning (RL) agent exploits flaws or ambiguities in the reward function to achieve high rewards, without genuinely learning or completing the intended task. Reward hacking exists because RL environments are often imperfect, and it is fundamentally challenging to accurately specify a reward function.\\nWith the rise of language models generalizing to a broad spectrum of tasks and RLHF becomes a de facto method for alignment training, reward hacking in RL training of language models has become a critical practical challenge. Instances where the model learns to modify unit tests to pass coding tasks, or where responses contain biases that mimic a user’s preference, are pretty concerning and are likely one of the major blockers for real-world deployment of more autonomous use cases of AI models.',\n",
       " 'language': 'en'}"
      ]
     },
     "execution_count": 11,
     "metadata": {},
     "output_type": "execute_result"
    }
   ],
   "source": [
    "docs[0].metadata"
   ]
  },
  {
   "cell_type": "code",
   "execution_count": 18,
   "id": "66391782-2f3e-4030-bf81-948a71ed2340",
   "metadata": {},
   "outputs": [],
   "source": [
    "from langchain_text_splitters import RecursiveCharacterTextSplitter\n",
    "\n",
    "text_splitter = RecursiveCharacterTextSplitter.from_tiktoken_encoder(\n",
    "    chunk_size=100, chunk_overlap=50\n",
    ")\n",
    "\n",
    "doc_chunks = text_splitter.split_documents(docs)"
   ]
  },
  {
   "cell_type": "code",
   "execution_count": 25,
   "id": "673e1f5a-07c6-4755-8dd2-352bd675d3e8",
   "metadata": {},
   "outputs": [
    {
     "name": "stdout",
     "output_type": "stream",
     "text": [
      "Total uuids: 200\n",
      "Few examples:\n"
     ]
    },
    {
     "data": {
      "text/plain": [
       "['ba565260-979c-4cbf-a0b9-99a7d7d7fdf2',\n",
       " '93f398ca-3235-484d-8f2d-fd0bc85a632f',\n",
       " 'f012f642-b9c1-41e8-9576-158cee987e09',\n",
       " 'ff71db6d-5c17-4255-8c4c-f3d8918ed299',\n",
       " '664dec66-07a9-41fa-a1ee-5f5f7d84f9a4',\n",
       " '6475e061-982c-4a2e-b958-07e51dee551e',\n",
       " 'a09036f2-eee9-43cf-b2cf-16aeae5786b3',\n",
       " 'f0cd9247-3ce4-45bb-b9ce-6df476ff688a',\n",
       " '193c2723-f85d-4f7b-8f21-c05f8f24d2a2',\n",
       " '32b6bce9-dd1b-4197-98a3-199f1b95cc0b']"
      ]
     },
     "execution_count": 25,
     "metadata": {},
     "output_type": "execute_result"
    }
   ],
   "source": [
    "from uuid import uuid4\n",
    "\n",
    "uuids = [str(uuid4()) for _ in range(len(doc_chunks))]\n",
    "\n",
    "print(\"Total uuids:\", len(uuids))\n",
    "print(\"Few examples:\")\n",
    "uuids[:10]"
   ]
  },
  {
   "cell_type": "code",
   "execution_count": 11,
   "id": "ce21bce1-3856-4070-b02d-d163d9fe59e7",
   "metadata": {},
   "outputs": [],
   "source": [
    "# print(\"Total number of documents inside chunks:\", len(doc_chunks))\n",
    "# print()\n",
    "# for i, chunk in enumerate(doc_chunks, start=1):\n",
    "#     print(f\"Document {i} metadata: {chunk.metadata}\")\n",
    "#     print(f\"Document {i} chunks: {chunk.page_content[:100]}\")\n",
    "#     if i == 5: break\n",
    "#     print(\"-\" * 100)"
   ]
  },
  {
   "cell_type": "code",
   "execution_count": 26,
   "id": "c160a8d7-9f19-42fa-8fde-c0082667afe1",
   "metadata": {
    "collapsed": true,
    "jupyter": {
     "outputs_hidden": true
    },
    "scrolled": true
   },
   "outputs": [
    {
     "data": {
      "text/plain": [
       "['ba565260-979c-4cbf-a0b9-99a7d7d7fdf2',\n",
       " '93f398ca-3235-484d-8f2d-fd0bc85a632f',\n",
       " 'f012f642-b9c1-41e8-9576-158cee987e09',\n",
       " 'ff71db6d-5c17-4255-8c4c-f3d8918ed299',\n",
       " '664dec66-07a9-41fa-a1ee-5f5f7d84f9a4',\n",
       " '6475e061-982c-4a2e-b958-07e51dee551e',\n",
       " 'a09036f2-eee9-43cf-b2cf-16aeae5786b3',\n",
       " 'f0cd9247-3ce4-45bb-b9ce-6df476ff688a',\n",
       " '193c2723-f85d-4f7b-8f21-c05f8f24d2a2',\n",
       " '32b6bce9-dd1b-4197-98a3-199f1b95cc0b',\n",
       " '09b3f240-f9e3-4720-bbd0-d5aa91c5fc2e',\n",
       " 'c73964c3-2e3c-4066-a2fe-2b6bb5083e73',\n",
       " 'a3c5fe7e-68a5-40b9-8a01-0a83c3fa4fd5',\n",
       " '94365194-9e52-44cc-94e7-dfdc6bf0e2c9',\n",
       " 'b230c4f1-78b4-4812-a1f7-54cf9ad07fde',\n",
       " '20f13f8a-26ba-4c63-9400-5b4ab4a9fe0d',\n",
       " '6a3952d7-20c9-43c5-8969-f5f571df2a0e',\n",
       " 'bd4c3abd-294d-4180-ab3d-e2e653ccb600',\n",
       " '45d76137-1695-4d7e-88db-31b5b73d81c6',\n",
       " 'cf4825fa-73a0-4ac6-a12b-c9a16d78d0d1',\n",
       " 'f7c1268d-172d-4cb8-a673-badf07e0b4aa',\n",
       " '0c575b88-8a82-4361-8fe2-e1221d5269cf',\n",
       " 'cbbb4424-38b1-4cd1-a80d-38c37a8dbee5',\n",
       " '4c3c2922-0a3d-4999-953a-4f0cec406eff',\n",
       " 'a696d6bc-c109-4a97-88f8-c1c2a5d64dd1',\n",
       " '0840ed04-560d-4949-ac60-229debdf1744',\n",
       " 'f854e266-950f-41ed-9174-7655297acf66',\n",
       " 'fc4365f1-64eb-4c7b-bf04-a36ed4d71c8a',\n",
       " '6fdf4835-75a5-41d2-a770-c998eab98387',\n",
       " 'ede750af-8b4b-4567-b789-d608ed7b0c19',\n",
       " '135e1f18-1014-4683-894f-488421dce05e',\n",
       " '51394a78-d3ca-4d52-8627-ba16e636dc4a',\n",
       " 'bf89f98c-9283-4b4a-921e-c915b8d76b27',\n",
       " '3e0f4ea7-61ea-4b51-b03a-cbe14097a1bf',\n",
       " 'ab709ed9-86eb-4873-8550-236e594f9337',\n",
       " '66f725cc-94c5-41a5-8bf3-d7d501015e1b',\n",
       " 'f2c6ce1a-98cb-4da7-a65b-41d567128f7a',\n",
       " '15657aae-0882-4480-b931-534073162fba',\n",
       " '8ae8c0ad-2526-4327-a483-41f385649221',\n",
       " 'f75c7022-1070-46c3-8467-0a09b7b3300e',\n",
       " 'b18b7980-f39e-4d77-b8e4-b3fda4a47789',\n",
       " 'cafb9bc2-6dd2-4366-9590-0d5ffe86a82a',\n",
       " 'cce846d8-a6a6-4e6f-95f5-36d30ff9791e',\n",
       " '17b6d331-76fa-4724-bfa5-95cf0afe7715',\n",
       " 'd7c4682a-0dd0-475f-be0e-32714032c3f2',\n",
       " '2f9a16ef-2e76-47c1-a7d3-f922e1f7ebdc',\n",
       " 'd9aad184-577c-4209-a168-94963056db57',\n",
       " '85f1ea7b-a435-443d-aa8f-54aafa782493',\n",
       " '4fba2cd2-9ffa-4651-b4b9-c0621834fdff',\n",
       " 'f6404973-764d-43b8-ab61-be84c588664b',\n",
       " '22183477-179d-4e79-8612-23b92aea9668',\n",
       " 'f647b5ee-3f0f-4755-8c70-f4033b97cc9c',\n",
       " 'd0f6c45d-c25b-4f3e-98e2-66f976df920e',\n",
       " '1c9dbc27-8234-4114-8567-6bd55566fd7b',\n",
       " '84b39ee9-2c70-49b1-9446-f22146b6eb07',\n",
       " 'b42ff089-7e81-45ec-afb4-f99331a3f25b',\n",
       " 'd49436d4-1853-46e5-a607-39c1acab3c33',\n",
       " '0fb64ae4-642d-4677-8625-f069ccd444fe',\n",
       " '8bb8fa67-1f6f-49a9-9b1a-105e0da62f1d',\n",
       " '8ff74f64-0461-4428-a59f-1dfa9599572e',\n",
       " '33ba3f46-202d-4c90-85f9-77c0d1c69c8a',\n",
       " '9d170acc-3942-4a7f-b800-20f307c098ca',\n",
       " 'a9f1a606-45a2-4ec7-ad3f-7cff2a4defc6',\n",
       " 'aaffa25e-7a22-4888-a4b6-887d478e9d12',\n",
       " 'd637f01b-253f-401f-80af-841e125ba262',\n",
       " '29543a23-10d6-4d2b-84d9-88d7cb3a0b99',\n",
       " '228a1e5f-e53b-4796-bc5d-03baa815cc42',\n",
       " '75e09fd9-5d82-4e4f-a1a2-f80936493a1b',\n",
       " '5f67c97d-edfb-4742-921d-dc479227fd46',\n",
       " 'e90617de-ac7f-4520-a1c5-c8a2b1a34a64',\n",
       " 'c2bcd7a7-3920-4b35-be77-56aaa45f6c24',\n",
       " '2aa41594-2308-4ade-9b18-2f333805ecc7',\n",
       " '55c16349-4a1d-40bf-9bdc-eedff7b4844d',\n",
       " '3609e088-f9a8-4f79-bba8-b25542d29382',\n",
       " '2397d6bd-eddb-4210-891b-6b12ae23746e',\n",
       " 'd4b2a28c-4280-4476-9af9-0559f9a9b452',\n",
       " 'f5daaacb-1b4a-4b28-8e5c-3852286fdd8a',\n",
       " 'e85c3a17-2210-443c-b31f-9f683f8f4c45',\n",
       " '1306d405-a670-4aa8-b75b-08ecf4347c76',\n",
       " 'd5a6e6c0-b7b2-49fa-9a1a-c5c50608e35b',\n",
       " 'cdaf6953-e940-48bc-a1a2-7bce2652fa35',\n",
       " '5911c45e-f35f-4a70-9ea1-528f30aeeb91',\n",
       " '6615763a-ccf6-4521-8f63-767aee989ae8',\n",
       " '30f43513-b0e1-47ad-94d0-200b0d862c15',\n",
       " 'd3f58484-1ff9-4537-bdee-006f6b8e334c',\n",
       " '4e44c5b9-7d38-442b-be90-587170a182be',\n",
       " 'bcb20935-e6f5-4530-a377-200d65ab7e5d',\n",
       " 'efa0c894-c81c-4505-88d2-d4441d99f946',\n",
       " 'ffaaa189-4d2d-4e4f-9cab-051dc18ffe80',\n",
       " 'e259f06f-5697-4770-a78a-8389b3d96cae',\n",
       " '2432e2dd-53e3-4190-988d-d0c71d3ea79a',\n",
       " '836c967f-3740-4c5d-9f6e-4b4d5cc56b2f',\n",
       " 'ca36f9db-1d7c-484f-a325-80ab4ed1fafa',\n",
       " '7a967627-f112-47e8-a6db-2f29fec534a0',\n",
       " '944c0769-138d-4b1e-8c56-f8b0f4f25639',\n",
       " 'b1c83904-9954-41c1-ad8d-bcf964c642ba',\n",
       " '93792138-f5d5-4f8a-adc4-9943872626fb',\n",
       " '83be3a88-91e7-4d45-93f0-16157934e53e',\n",
       " '718bc09e-f756-4e75-b1b9-659ba84b94af',\n",
       " 'a3dae008-8167-46ee-83f7-beefd63a15e2',\n",
       " '65d9b46f-be5f-43f1-bf33-c616317e517d',\n",
       " '4b7c92d3-ac06-4691-a68b-c44f62059c9e',\n",
       " 'a5ca1739-f902-4eea-9744-daa869edd9b8',\n",
       " 'e5dc4ee2-8860-4f32-9a76-beaf5cefdc13',\n",
       " 'd99fc0fe-23b4-4a06-a995-0e1bc452a7fc',\n",
       " 'd71a30d3-5e9d-4b54-868b-359eeec83084',\n",
       " 'b30e7a98-e5d4-4805-83cf-b1693aa2e04c',\n",
       " '7b0508bd-3128-43c5-a09f-2a97caf15de0',\n",
       " 'd4b49764-336a-4451-9012-e2f1afa3ee4c',\n",
       " '59b5f124-4d2f-41d9-bcd4-4f73413ab0ac',\n",
       " 'c90a0d67-c89b-4c86-a5ff-3476818cb283',\n",
       " '7b604eb2-210a-420e-a4c4-4b6b5f047b51',\n",
       " '555cdc37-becc-4590-b443-460712efdb25',\n",
       " '92eb5e5c-dbe6-4eb5-81c2-3c08d5f21823',\n",
       " '2ccf0e4d-0d56-4e36-9592-39bad527ff87',\n",
       " 'e7c5263b-0310-4985-9f88-5394bb088d5d',\n",
       " '9402c584-6de0-4de8-a0c6-7d4ee83f1668',\n",
       " 'dc621c86-f8b6-4052-b170-24683236671b',\n",
       " '3bf3f26f-80a1-40e3-9abc-13a3d593630b',\n",
       " '87af27a2-258c-49fd-8ed0-4f12d04477a6',\n",
       " 'ee41c288-55e3-4d3a-b844-9fd0ac60e412',\n",
       " '0159c7a5-23b5-4a1f-9c32-cbb932bcf2ed',\n",
       " 'e97f5ead-5581-484e-8d4a-7b421b65e321',\n",
       " '6db13721-d6bb-405b-a546-9d42df8c7aea',\n",
       " 'b68e0a82-a1b8-4935-96c1-2284b55de5b7',\n",
       " '6d1055be-0989-4b98-a541-5a6899a8ae96',\n",
       " 'b14d33c6-02af-464f-a1ea-29f73ed64a39',\n",
       " 'b27436dc-b36e-41ec-a6d7-6b08fd9579f6',\n",
       " '929aa2c1-1ae0-43ce-b21c-38ecf0371486',\n",
       " '4f51f4a3-bcc7-47dc-a2f2-2475bfb792ca',\n",
       " '6718ce86-0a47-412e-9830-9012b018d8b8',\n",
       " '7f63e468-bf5d-461d-8ff7-237656b5783f',\n",
       " '754a50cc-042a-4007-94b2-b3bbee7eb640',\n",
       " '6e7b0df1-a978-423c-b0d1-96d455f19ea1',\n",
       " '9cd0424d-b81a-4701-b812-ad63b71a7069',\n",
       " 'af0e57d6-33de-4488-a7de-ee8ca06d54b2',\n",
       " '1cabe664-4f26-48b0-9650-dea057242a52',\n",
       " 'e0396b62-11fb-45c4-a790-728e88ec2837',\n",
       " 'a56343d3-6225-4a29-84ba-43ca7d8def25',\n",
       " '941f3354-c4ef-47a1-9260-010a3bedc27a',\n",
       " '1fbe5417-e105-4138-a0e4-a4e222d617d4',\n",
       " 'c0be9fba-38a2-4b03-af48-e2296f5e18f5',\n",
       " 'c5471912-4384-473d-b006-ca609237caa3',\n",
       " '18b57842-9b53-404a-bba7-f0a02c036ed9',\n",
       " 'dba51964-45b2-4472-b5e6-c87d14ee9e81',\n",
       " 'f130b711-6cf8-4325-9293-a2e0ccad3fb0',\n",
       " '0bf461f7-868d-4be1-aa7a-fbb09c4cc2c2',\n",
       " 'fe676145-e381-4c4b-bd74-3b5b4bf80314',\n",
       " 'dc8546e6-c193-48ce-92cd-b7746513b21c',\n",
       " 'bd986e8f-d06b-4f5e-817b-2726ce185728',\n",
       " '8b309334-5c21-4e56-9344-8313ba50cc64',\n",
       " 'c98f62ff-ee28-456e-bace-7720c0fdbb82',\n",
       " 'd0baa207-08a0-47cb-a42a-1f343b3e799b',\n",
       " 'a827277c-9987-4367-9adc-f9ef84475feb',\n",
       " '4b7f36fc-dc85-42f0-a1c5-b23fe998d5eb',\n",
       " 'e343f0d7-53ed-4ade-909c-2a21167d58a5',\n",
       " '0aa6769e-61c4-4ef8-a964-799b7b5582ce',\n",
       " '59a8019e-ec2f-4998-8b5a-90424ba8196b',\n",
       " '069679b5-bbaf-4fc7-a354-09cf53a036b3',\n",
       " '5b47deac-b1d7-4e8b-9fb2-e7b97b9bfc33',\n",
       " '80d7b912-f846-4aa8-944c-71e53e19688e',\n",
       " '47876c7a-7acc-42aa-b247-9ce09c210ccf',\n",
       " '65b58c7e-bb39-4288-995b-7a61da2f34b7',\n",
       " '17dfe16b-50e4-4412-9492-65416156c659',\n",
       " '3ebca100-6924-42d3-b7d1-f02dc766c20c',\n",
       " '136d3e61-6cb9-4d0c-af62-f915afadd1d6',\n",
       " '971c95ac-d5b5-4214-9001-9a99614f5b5a',\n",
       " '68c96a13-217b-4ee0-a298-3b7c81a73682',\n",
       " '780a9453-06b6-4db4-91a5-5f9a5d7db234',\n",
       " '0c2af20c-c5b6-49ed-9291-04de7378c53b',\n",
       " '8c0c49bf-5975-4946-9022-c13e68beb55b',\n",
       " 'e17fbb3d-ab96-4486-8549-37bfa530c717',\n",
       " '6f2eecbe-a545-4a94-b471-cadf0986f5f3',\n",
       " 'c9e43f39-d10a-42e8-9645-ea119c3bd5a5',\n",
       " '49b0a623-f80e-40f9-9284-147305092377',\n",
       " 'efd85a5e-dec7-4b16-bb97-0a92adbb27f9',\n",
       " '41989e88-b206-4160-87ee-19d0853fff9d',\n",
       " '119a4c16-0c28-4d53-bd23-071c0c2e1bbe',\n",
       " '4bd61d57-0aaa-4c15-94aa-616c89a4f91f',\n",
       " '53c6c962-4bc2-4753-a4e6-8396c10be5c3',\n",
       " 'af5c688a-9774-4ad5-a8ad-c046a3083928',\n",
       " '52788bbf-6a5e-46f2-8b9d-5086a3266400',\n",
       " 'fa296c44-9d0e-43d0-9829-421ec2f11ef1',\n",
       " 'bb027a58-5fb0-4aa8-a20b-f46c0f3b96ee',\n",
       " '69524dbf-1483-4431-9cb3-ef3bc193096f',\n",
       " 'f5d7a330-b119-43d9-8543-e8b8dc836855',\n",
       " '80cd14ff-2524-4984-aa08-abad9a724a4a',\n",
       " '65cd15b0-6991-4d15-87c4-82335d91e2d6',\n",
       " '23be2dbc-2994-4e45-a6a9-98e74fb5a5f4',\n",
       " '605da014-a0b6-4ae0-9527-1c92f50b845a',\n",
       " 'f02ca278-425c-47e2-8f9e-9ea63ec14c7a',\n",
       " '220dbdc8-ba79-407e-ae26-04654ba75b4d',\n",
       " '8d756e9f-087f-4df7-9f90-4f8e2bc89b14',\n",
       " 'b73a7c8c-9bc3-4aed-a12b-6f7675844896',\n",
       " '51a6f2dc-710a-4e4c-b50f-11044178b876',\n",
       " 'ea420e27-6403-4a64-a212-7c4b40e0e351',\n",
       " '529b4a84-46e8-48df-9d7d-aef18f37663b',\n",
       " '40a803ee-10c8-47a8-a44d-161348213fb4',\n",
       " '8f366920-ceef-48a6-83e1-95ff01068b24',\n",
       " 'b4b18713-3984-4a75-90df-ff159cf0acaf']"
      ]
     },
     "execution_count": 26,
     "metadata": {},
     "output_type": "execute_result"
    }
   ],
   "source": [
    "vector_store.add_documents(documents=doc_chunks, ids=uuids)"
   ]
  },
  {
   "cell_type": "code",
   "execution_count": null,
   "id": "7c0f536a-0128-4d7d-a26d-87698350e202",
   "metadata": {},
   "outputs": [],
   "source": []
  }
 ],
 "metadata": {
  "kernelspec": {
   "display_name": "agenticenv",
   "language": "python",
   "name": "python3"
  },
  "language_info": {
   "codemirror_mode": {
    "name": "ipython",
    "version": 3
   },
   "file_extension": ".py",
   "mimetype": "text/x-python",
   "name": "python",
   "nbconvert_exporter": "python",
   "pygments_lexer": "ipython3",
   "version": "3.10.16"
  }
 },
 "nbformat": 4,
 "nbformat_minor": 5
}
